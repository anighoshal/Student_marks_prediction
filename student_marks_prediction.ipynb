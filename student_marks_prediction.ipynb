{
  "nbformat": 4,
  "nbformat_minor": 0,
  "metadata": {
    "kernelspec": {
      "display_name": "Python 3",
      "language": "python",
      "name": "python3"
    },
    "language_info": {
      "codemirror_mode": {
        "name": "ipython",
        "version": 3
      },
      "file_extension": ".py",
      "mimetype": "text/x-python",
      "name": "python",
      "nbconvert_exporter": "python",
      "pygments_lexer": "ipython3",
      "version": "3.7.6"
    },
    "colab": {
      "name": "student-marks-prediction.ipynb",
      "provenance": []
    },
    "accelerator": "GPU"
  },
  "cells": [
    {
      "cell_type": "code",
      "metadata": {
        "id": "26740TbhA_tm"
      },
      "source": [
        "# Jovian Commit Essentials\n",
        "# Please retain and execute this cell without modifying the contents for `jovian.commit` to work\n",
        "!pip install jovian --upgrade -q\n",
        "import jovian\n",
        "jovian.set_project('student-marks-prediction')\n",
        "jovian.set_colab_id('1J9O7eF8hPGmw5M5773bU7LzMSkmbWHva')"
      ],
      "execution_count": 23,
      "outputs": []
    },
    {
      "cell_type": "code",
      "metadata": {
        "id": "uLHX3bqqA_tu"
      },
      "source": [
        "!pip install jovian --upgrade --quiet"
      ],
      "execution_count": 24,
      "outputs": []
    },
    {
      "cell_type": "markdown",
      "metadata": {
        "id": "iugxyNnNR6q5"
      },
      "source": [
        "## Importing all the packages"
      ]
    },
    {
      "cell_type": "code",
      "metadata": {
        "id": "1xS-5niWA_tv"
      },
      "source": [
        "import numpy as np\r\n",
        "import matplotlib.pyplot as plt\r\n",
        "import torch\r\n",
        "import torch.nn as nn\r\n",
        "from torch.utils.data import TensorDataset\r\n",
        "from torch.utils.data import DataLoader\r\n",
        "import torch.nn.functional as F"
      ],
      "execution_count": 3,
      "outputs": []
    },
    {
      "cell_type": "markdown",
      "metadata": {
        "id": "PkQ_hacTSpwA"
      },
      "source": [
        "## Now we will import the data and convert it to PyTorch tensors"
      ]
    },
    {
      "cell_type": "code",
      "metadata": {
        "colab": {
          "base_uri": "https://localhost:8080/"
        },
        "id": "6LgEwSI6BXvw",
        "outputId": "4b886dc8-7031-4522-c60c-350bcd4ca4a4"
      },
      "source": [
        "hours = np.array([[2.5000], [5.1000], [3.2000], [8.5000], [3.5000], [1.5000], [9.2000], [5.5000], [8.3000],\r\n",
        "        [2.7000], [7.7000], [5.9000], [4.5000], [3.3000], [1.1000], [8.9000], [2.5000], [1.9000],\r\n",
        "        [6.1000], [7.4000], [2.7000], [4.8000], [3.8000], [6.9000], [7.8000]], dtype='float32')\r\n",
        "\r\n",
        "marks = np.array([[21], [47], [27], [75], [30], [20], [88], [60], [81], [25], [85], [62], [41], [42], [17], [95], [30], [24], [67], [69], [30], [54], [35], [76], [86]], dtype='float32')\r\n",
        "\r\n",
        "hours = torch.from_numpy(hours)\r\n",
        "marks = torch.from_numpy(marks)\r\n",
        "\r\n",
        "print(hours)\r\n",
        "print(marks)"
      ],
      "execution_count": 5,
      "outputs": [
        {
          "output_type": "stream",
          "text": [
            "tensor([[2.5000],\n",
            "        [5.1000],\n",
            "        [3.2000],\n",
            "        [8.5000],\n",
            "        [3.5000],\n",
            "        [1.5000],\n",
            "        [9.2000],\n",
            "        [5.5000],\n",
            "        [8.3000],\n",
            "        [2.7000],\n",
            "        [7.7000],\n",
            "        [5.9000],\n",
            "        [4.5000],\n",
            "        [3.3000],\n",
            "        [1.1000],\n",
            "        [8.9000],\n",
            "        [2.5000],\n",
            "        [1.9000],\n",
            "        [6.1000],\n",
            "        [7.4000],\n",
            "        [2.7000],\n",
            "        [4.8000],\n",
            "        [3.8000],\n",
            "        [6.9000],\n",
            "        [7.8000]])\n",
            "tensor([[21.],\n",
            "        [47.],\n",
            "        [27.],\n",
            "        [75.],\n",
            "        [30.],\n",
            "        [20.],\n",
            "        [88.],\n",
            "        [60.],\n",
            "        [81.],\n",
            "        [25.],\n",
            "        [85.],\n",
            "        [62.],\n",
            "        [41.],\n",
            "        [42.],\n",
            "        [17.],\n",
            "        [95.],\n",
            "        [30.],\n",
            "        [24.],\n",
            "        [67.],\n",
            "        [69.],\n",
            "        [30.],\n",
            "        [54.],\n",
            "        [35.],\n",
            "        [76.],\n",
            "        [86.]])\n"
          ],
          "name": "stdout"
        }
      ]
    },
    {
      "cell_type": "markdown",
      "metadata": {
        "id": "-5UlvRJiTKGg"
      },
      "source": [
        "## Now We'll create a `TensorDataset`, which allows access to rows from `hours` and `marks` as tuples"
      ]
    },
    {
      "cell_type": "code",
      "metadata": {
        "colab": {
          "base_uri": "https://localhost:8080/"
        },
        "id": "VZTEiwGESoXA",
        "outputId": "8f3ad887-2b8a-465b-9ca5-3cbc941b771a"
      },
      "source": [
        "train_ds = TensorDataset(hours, marks)\r\n",
        "train_ds[0:10]"
      ],
      "execution_count": 6,
      "outputs": [
        {
          "output_type": "execute_result",
          "data": {
            "text/plain": [
              "(tensor([[2.5000],\n",
              "         [5.1000],\n",
              "         [3.2000],\n",
              "         [8.5000],\n",
              "         [3.5000],\n",
              "         [1.5000],\n",
              "         [9.2000],\n",
              "         [5.5000],\n",
              "         [8.3000],\n",
              "         [2.7000]]), tensor([[21.],\n",
              "         [47.],\n",
              "         [27.],\n",
              "         [75.],\n",
              "         [30.],\n",
              "         [20.],\n",
              "         [88.],\n",
              "         [60.],\n",
              "         [81.],\n",
              "         [25.]]))"
            ]
          },
          "metadata": {
            "tags": []
          },
          "execution_count": 6
        }
      ]
    },
    {
      "cell_type": "markdown",
      "metadata": {
        "id": "vmbSnt7iTgJn"
      },
      "source": [
        "## Now we will visualize the data to see if there is any linear relation between `hours` and `marks`."
      ]
    },
    {
      "cell_type": "code",
      "metadata": {
        "colab": {
          "base_uri": "https://localhost:8080/",
          "height": 295
        },
        "id": "Ko4WwoyeTSsm",
        "outputId": "507dc1da-2e5a-4148-b570-844953dcf038"
      },
      "source": [
        "plt.scatter(hours, marks)\r\n",
        "plt.title(\"Hours vs Marks\")\r\n",
        "plt.xlabel(\"Hours Studied\")\r\n",
        "plt.ylabel(\"Marks Score\")\r\n",
        "plt.show()"
      ],
      "execution_count": 7,
      "outputs": [
        {
          "output_type": "display_data",
          "data": {
            "image/png": "[encoded data removed]",
            "text/plain": [
              "<Figure size 432x288 with 1 Axes>"
            ]
          },
          "metadata": {
            "tags": [],
            "needs_background": "light"
          }
        }
      ]
    },
    {
      "cell_type": "markdown",
      "metadata": {
        "id": "2zflEfH6WdHf"
      },
      "source": [
        "So we can see there is a linear relation between the study hours and the marks scored. Now we can perform `Linear regression` using `Gradient descent` algorithm for predicting."
      ]
    },
    {
      "cell_type": "markdown",
      "metadata": {
        "id": "Ddx_nLC6W5-f"
      },
      "source": [
        "## We'll also create a `DataLoader`, which can split the data into batches of a predefined size while training. It also provides other utilities like shuffling and random sampling of the data."
      ]
    },
    {
      "cell_type": "code",
      "metadata": {
        "id": "D9MrhTLJUKrM"
      },
      "source": [
        "batch_size = 5\r\n",
        "train_dl = DataLoader(train_ds, batch_size, shuffle=True)"
      ],
      "execution_count": 8,
      "outputs": []
    },
    {
      "cell_type": "code",
      "metadata": {
        "id": "v9SlLqtqW_QH",
        "outputId": "5f835c4c-ef1a-4ae5-81fb-c19518534368",
        "colab": {
          "base_uri": "https://localhost:8080/"
        }
      },
      "source": [
        "for xb, yb in train_dl:\r\n",
        "    print(xb)\r\n",
        "    print(yb)\r\n",
        "    break"
      ],
      "execution_count": 9,
      "outputs": [
        {
          "output_type": "stream",
          "text": [
            "tensor([[8.3000],\n",
            "        [2.5000],\n",
            "        [9.2000],\n",
            "        [6.1000],\n",
            "        [1.5000]])\n",
            "tensor([[81.],\n",
            "        [30.],\n",
            "        [88.],\n",
            "        [67.],\n",
            "        [20.]])\n"
          ],
          "name": "stdout"
        }
      ]
    },
    {
      "cell_type": "markdown",
      "metadata": {
        "id": "8mC850KzXGI_"
      },
      "source": [
        "In each iteration, the data loader returns one batch of data with the given batch size. If `shuffle` is set to `True`, it shuffles the training data before creating batches. Shuffling helps randomize the input to the optimization algorithm, leading to a faster reduction in the loss."
      ]
    },
    {
      "cell_type": "markdown",
      "metadata": {
        "id": "G7K5mbIhXfGf"
      },
      "source": [
        "## Now we will define our model using `nn.Linear` class from PyTorch which will give us weights and biases"
      ]
    },
    {
      "cell_type": "code",
      "metadata": {
        "id": "4wZtsaGDXDrH",
        "outputId": "97cea135-4bd6-473e-8349-7d857feebdc9",
        "colab": {
          "base_uri": "https://localhost:8080/"
        }
      },
      "source": [
        "model = nn.Linear(1, 1)\r\n",
        "print(model.weight)\r\n",
        "print(model.bias)"
      ],
      "execution_count": 10,
      "outputs": [
        {
          "output_type": "stream",
          "text": [
            "Parameter containing:\n",
            "tensor([[-0.7162]], requires_grad=True)\n",
            "Parameter containing:\n",
            "tensor([-0.4736], requires_grad=True)\n"
          ],
          "name": "stdout"
        }
      ]
    },
    {
      "cell_type": "markdown",
      "metadata": {
        "id": "PJPhRL0yX6bP"
      },
      "source": [
        "We can use the model to generate predictions in the same way as before."
      ]
    },
    {
      "cell_type": "code",
      "metadata": {
        "id": "m_zvCmj4Xubp",
        "outputId": "248a0af6-2ba5-47a8-baec-45ef52aed250",
        "colab": {
          "base_uri": "https://localhost:8080/"
        }
      },
      "source": [
        "preds = model(hours)\r\n",
        "preds"
      ],
      "execution_count": 11,
      "outputs": [
        {
          "output_type": "execute_result",
          "data": {
            "text/plain": [
              "tensor([[-2.2642],\n",
              "        [-4.1264],\n",
              "        [-2.7656],\n",
              "        [-6.5617],\n",
              "        [-2.9805],\n",
              "        [-1.5480],\n",
              "        [-7.0630],\n",
              "        [-4.4129],\n",
              "        [-6.4184],\n",
              "        [-2.4075],\n",
              "        [-5.9887],\n",
              "        [-4.6994],\n",
              "        [-3.6967],\n",
              "        [-2.8372],\n",
              "        [-1.2615],\n",
              "        [-6.8481],\n",
              "        [-2.2642],\n",
              "        [-1.8345],\n",
              "        [-4.8427],\n",
              "        [-5.7738],\n",
              "        [-2.4075],\n",
              "        [-3.9116],\n",
              "        [-3.1953],\n",
              "        [-5.4157],\n",
              "        [-6.0603]], grad_fn=<AddmmBackward>)"
            ]
          },
          "metadata": {
            "tags": []
          },
          "execution_count": 11
        }
      ]
    },
    {
      "cell_type": "markdown",
      "metadata": {
        "id": "JobXQzwnY3dw"
      },
      "source": [
        "## Loss Function\r\n",
        "Now we will define a loss function for calculating the loss and will try further to twicking the weights and biases for seeing a decrease in the loss"
      ]
    },
    {
      "cell_type": "code",
      "metadata": {
        "id": "MaDD0bpwX8zZ"
      },
      "source": [
        "loss_fn = F.mse_loss"
      ],
      "execution_count": 12,
      "outputs": []
    },
    {
      "cell_type": "code",
      "metadata": {
        "id": "1CJLYbXUZTXX",
        "outputId": "921b7252-d314-427b-b58f-2cb006d31228",
        "colab": {
          "base_uri": "https://localhost:8080/"
        }
      },
      "source": [
        "loss = loss_fn(model(hours), marks)\r\n",
        "print(loss)"
      ],
      "execution_count": 13,
      "outputs": [
        {
          "output_type": "stream",
          "text": [
            "tensor(3787.7769, grad_fn=<MseLossBackward>)\n"
          ],
          "name": "stdout"
        }
      ]
    },
    {
      "cell_type": "markdown",
      "metadata": {
        "id": "oeKHTyszZgAI"
      },
      "source": [
        "We will now use a optimizer called `optim.SGD` for manipulating the weights and biases. SGD is short for \"stochastic gradient descent\". The term _stochastic_ indicates that samples are selected in random batches instead of as a single group."
      ]
    },
    {
      "cell_type": "code",
      "metadata": {
        "id": "ZK1Ed5VmZYrM"
      },
      "source": [
        "opt = torch.optim.SGD(model.parameters(), lr=1e-5)"
      ],
      "execution_count": 14,
      "outputs": []
    },
    {
      "cell_type": "markdown",
      "metadata": {
        "id": "LsHY3ewnZ_VX"
      },
      "source": [
        "## Train the model\r\n",
        "\r\n",
        "We are now ready to train the model. We'll follow the below steps to implement gradient descent:\r\n",
        "\r\n",
        "1. Generate predictions\r\n",
        "\r\n",
        "2. Calculate the loss\r\n",
        "\r\n",
        "3. Compute gradients w.r.t the weights and biases\r\n",
        "\r\n",
        "4. Adjust the weights by subtracting a small quantity proportional to the gradient\r\n",
        "\r\n",
        "5. Reset the gradients to zero\r\n",
        "\r\n",
        "Let's define a utility function `fit` that trains the model for a given number of epochs."
      ]
    },
    {
      "cell_type": "code",
      "metadata": {
        "id": "owOtakmyZ16q"
      },
      "source": [
        "def fit(num_epochs, model, loss_fn, opt, train_dl):\r\n",
        "    \r\n",
        "    # Repeat for given number of epochs\r\n",
        "    for epoch in range(num_epochs):\r\n",
        "        \r\n",
        "        # Train with batches of data\r\n",
        "        for xb,yb in train_dl:\r\n",
        "            \r\n",
        "            # 1. Generate predictions\r\n",
        "            pred = model(xb)\r\n",
        "            \r\n",
        "            # 2. Calculate loss\r\n",
        "            loss = loss_fn(pred, yb)\r\n",
        "            \r\n",
        "            # 3. Compute gradients\r\n",
        "            loss.backward()\r\n",
        "            \r\n",
        "            # 4. Update parameters using gradients\r\n",
        "            opt.step()\r\n",
        "            \r\n",
        "            # 5. Reset the gradients to zero\r\n",
        "            opt.zero_grad()\r\n",
        "        \r\n",
        "        # Print the progress\r\n",
        "        if (epoch+1) % 100 == 0:\r\n",
        "            print('Epoch [{}/{}], Loss: {:.4f}'.format(epoch+1, num_epochs, loss.item()))"
      ],
      "execution_count": 15,
      "outputs": []
    },
    {
      "cell_type": "code",
      "metadata": {
        "id": "z7iH1lvcaUV9",
        "outputId": "adb03b97-b45a-42a7-c977-e76d4e0563ba",
        "colab": {
          "base_uri": "https://localhost:8080/"
        }
      },
      "source": [
        "fit(1500, model, loss_fn, opt, train_dl)"
      ],
      "execution_count": 16,
      "outputs": [
        {
          "output_type": "stream",
          "text": [
            "Epoch [100/1500], Loss: 2734.6597\n",
            "Epoch [200/1500], Loss: 814.2699\n",
            "Epoch [300/1500], Loss: 580.7731\n",
            "Epoch [400/1500], Loss: 397.4438\n",
            "Epoch [500/1500], Loss: 129.5323\n",
            "Epoch [600/1500], Loss: 90.6492\n",
            "Epoch [700/1500], Loss: 137.5472\n",
            "Epoch [800/1500], Loss: 49.3733\n",
            "Epoch [900/1500], Loss: 71.3739\n",
            "Epoch [1000/1500], Loss: 25.5163\n",
            "Epoch [1100/1500], Loss: 41.7884\n",
            "Epoch [1200/1500], Loss: 28.8677\n",
            "Epoch [1300/1500], Loss: 31.7200\n",
            "Epoch [1400/1500], Loss: 47.0958\n",
            "Epoch [1500/1500], Loss: 26.8738\n"
          ],
          "name": "stdout"
        }
      ]
    },
    {
      "cell_type": "markdown",
      "metadata": {
        "id": "BL5M-VBiabF4"
      },
      "source": [
        "We have trained our model for 1500 epochs and we got the Loss value 26.87 which is pretty good compared to the first loss value"
      ]
    },
    {
      "cell_type": "markdown",
      "metadata": {
        "id": "3gU_vFbNauPf"
      },
      "source": [
        "### Now we will see how good our model has performed and we will try to predict if a student studies for `9.25 hours` then what will be the score."
      ]
    },
    {
      "cell_type": "code",
      "metadata": {
        "id": "h4xbPd6HaXw-",
        "outputId": "68588ca3-e792-400e-d5fb-942ecf6d26e0",
        "colab": {
          "base_uri": "https://localhost:8080/"
        }
      },
      "source": [
        "preds = model(hours)\r\n",
        "preds"
      ],
      "execution_count": 18,
      "outputs": [
        {
          "output_type": "execute_result",
          "data": {
            "text/plain": [
              "tensor([[25.9773],\n",
              "        [51.6701],\n",
              "        [32.8946],\n",
              "        [85.2683],\n",
              "        [35.8591],\n",
              "        [16.0955],\n",
              "        [92.1856],\n",
              "        [55.6228],\n",
              "        [83.2919],\n",
              "        [27.9537],\n",
              "        [77.3628],\n",
              "        [59.5756],\n",
              "        [45.7410],\n",
              "        [33.8828],\n",
              "        [12.1428],\n",
              "        [89.2210],\n",
              "        [25.9773],\n",
              "        [20.0482],\n",
              "        [61.5519],\n",
              "        [74.3983],\n",
              "        [27.9537],\n",
              "        [48.7055],\n",
              "        [38.8237],\n",
              "        [69.4574],\n",
              "        [78.3510]], grad_fn=<AddmmBackward>)"
            ]
          },
          "metadata": {
            "tags": []
          },
          "execution_count": 18
        }
      ]
    },
    {
      "cell_type": "code",
      "metadata": {
        "id": "8ctwrNf2bE5b",
        "outputId": "21854f13-8824-45d1-c6b2-dd10ef4b5a2e",
        "colab": {
          "base_uri": "https://localhost:8080/"
        }
      },
      "source": [
        "marks"
      ],
      "execution_count": 19,
      "outputs": [
        {
          "output_type": "execute_result",
          "data": {
            "text/plain": [
              "tensor([[21.],\n",
              "        [47.],\n",
              "        [27.],\n",
              "        [75.],\n",
              "        [30.],\n",
              "        [20.],\n",
              "        [88.],\n",
              "        [60.],\n",
              "        [81.],\n",
              "        [25.],\n",
              "        [85.],\n",
              "        [62.],\n",
              "        [41.],\n",
              "        [42.],\n",
              "        [17.],\n",
              "        [95.],\n",
              "        [30.],\n",
              "        [24.],\n",
              "        [67.],\n",
              "        [69.],\n",
              "        [30.],\n",
              "        [54.],\n",
              "        [35.],\n",
              "        [76.],\n",
              "        [86.]])"
            ]
          },
          "metadata": {
            "tags": []
          },
          "execution_count": 19
        }
      ]
    },
    {
      "cell_type": "markdown",
      "metadata": {
        "id": "xixqsSRObNM_"
      },
      "source": [
        "Let's see for 9.25 hours how much a student scores"
      ]
    },
    {
      "cell_type": "code",
      "metadata": {
        "id": "qk17TzvObI9O",
        "outputId": "af884f14-ac5d-4223-aca5-34444e8b4e5b",
        "colab": {
          "base_uri": "https://localhost:8080/"
        }
      },
      "source": [
        "model(torch.tensor([[9.2500]]))"
      ],
      "execution_count": 20,
      "outputs": [
        {
          "output_type": "execute_result",
          "data": {
            "text/plain": [
              "tensor([[92.6797]], grad_fn=<AddmmBackward>)"
            ]
          },
          "metadata": {
            "tags": []
          },
          "execution_count": 20
        }
      ]
    },
    {
      "cell_type": "markdown",
      "metadata": {
        "id": "t355l-xPbZOX"
      },
      "source": [
        "The predicted score is 92.67"
      ]
    },
    {
      "cell_type": "code",
      "metadata": {
        "id": "L0uOLl3RbVWz",
        "outputId": "0881164e-f589-4037-8205-bd82f3a32974",
        "colab": {
          "base_uri": "https://localhost:8080/",
          "height": 136
        }
      },
      "source": [
        "jovian.commit(project='student-marks-prediction')"
      ],
      "execution_count": 21,
      "outputs": [
        {
          "output_type": "stream",
          "text": [
            "[jovian] Detected Colab notebook...\u001b[0m\n",
            "[jovian] Please enter your API key ( from https://jovian.ai/ ):\u001b[0m\n",
            "API KEY: ··········\n",
            "[jovian] Uploading colab notebook to Jovian...\u001b[0m\n",
            "[jovian] Capturing environment..\u001b[0m\n",
            "[jovian] Committed successfully! https://jovian.ai/anirbanghoshal990/student-marks-prediction\u001b[0m\n"
          ],
          "name": "stdout"
        },
        {
          "output_type": "execute_result",
          "data": {
            "application/vnd.google.colaboratory.intrinsic+json": {
              "type": "string"
            },
            "text/plain": [
              "'https://jovian.ai/anirbanghoshal990/student-marks-prediction'"
            ]
          },
          "metadata": {
            "tags": []
          },
          "execution_count": 21
        }
      ]
    },
    {
      "cell_type": "code",
      "metadata": {
        "id": "-OPS_Ri0cCjZ",
        "outputId": "e88bb554-7c77-4bd7-8ed3-ce84732a6d27",
        "colab": {
          "base_uri": "https://localhost:8080/",
          "height": 102
        }
      },
      "source": [
        "jovian.commit()"
      ],
      "execution_count": 22,
      "outputs": [
        {
          "output_type": "stream",
          "text": [
            "[jovian] Detected Colab notebook...\u001b[0m\n",
            "[jovian] Uploading colab notebook to Jovian...\u001b[0m\n",
            "[jovian] Capturing environment..\u001b[0m\n",
            "[jovian] Committed successfully! https://jovian.ai/anirbanghoshal990/student-marks-prediction\u001b[0m\n"
          ],
          "name": "stdout"
        },
        {
          "output_type": "execute_result",
          "data": {
            "application/vnd.google.colaboratory.intrinsic+json": {
              "type": "string"
            },
            "text/plain": [
              "'https://jovian.ai/anirbanghoshal990/student-marks-prediction'"
            ]
          },
          "metadata": {
            "tags": []
          },
          "execution_count": 22
        }
      ]
    },
    {
      "cell_type": "code",
      "metadata": {
        "id": "oWpVysvfcEPA",
        "outputId": "82885224-8e76-429c-f0eb-0e4274f2a318",
        "colab": {
          "base_uri": "https://localhost:8080/",
          "height": 102
        }
      },
      "source": [
        "import jovian\r\n",
        "jovian.commit()"
      ],
      "execution_count": 26,
      "outputs": [
        {
          "output_type": "stream",
          "text": [
            "[jovian] Detected Colab notebook...\u001b[0m\n",
            "[jovian] Uploading colab notebook to Jovian...\u001b[0m\n",
            "[jovian] Capturing environment..\u001b[0m\n",
            "[jovian] Committed successfully! https://jovian.ai/anirbanghoshal990/student-marks-prediction\u001b[0m\n"
          ],
          "name": "stdout"
        },
        {
          "output_type": "execute_result",
          "data": {
            "application/vnd.google.colaboratory.intrinsic+json": {
              "type": "string"
            },
            "text/plain": [
              "'https://jovian.ai/anirbanghoshal990/student-marks-prediction'"
            ]
          },
          "metadata": {
            "tags": []
          },
          "execution_count": 26
        }
      ]
    },
    {
      "cell_type": "code",
      "metadata": {
        "id": "jkKBER2NccWk"
      },
      "source": [
        ""
      ],
      "execution_count": null,
      "outputs": []
    }
  ]
}
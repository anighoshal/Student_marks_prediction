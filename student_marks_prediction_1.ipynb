{
  "nbformat": 4,
  "nbformat_minor": 0,
  "metadata": {
    "accelerator": "GPU",
    "colab": {
      "name": "student_marks_prediction_1.ipynb",
      "provenance": []
    },
    "kernelspec": {
      "display_name": "Python 3",
      "language": "python",
      "name": "python3"
    },
    "language_info": {
      "codemirror_mode": {
        "name": "ipython",
        "version": 3
      },
      "file_extension": ".py",
      "mimetype": "text/x-python",
      "name": "python",
      "nbconvert_exporter": "python",
      "pygments_lexer": "ipython3",
      "version": "3.7.6"
    }
  },
  "cells": [
    {
      "cell_type": "code",
      "metadata": {
        "colab": {
          "base_uri": "https://localhost:8080/"
        },
        "id": "wDFJC8QMZeI-",
        "outputId": "835c567f-5e4c-4318-bc48-125923f9f86a"
      },
      "source": [
        "# Jovian Commit Essentials\n",
        "# Please retain and execute this cell without modifying the contents for `jovian.commit` to work\n",
        "!pip install jovian --upgrade -q\n",
        "import jovian\n",
        "jovian.set_project('student-marks-prediction')\n",
        "jovian.set_colab_id('1nIwDCxwrM1y-FT7Hh06lK6kOFzVFkcnN')"
      ],
      "execution_count": 1,
      "outputs": [
        {
          "output_type": "stream",
          "text": [
            "\u001b[?25l\r\u001b[K     |████▉                           | 10kB 22.1MB/s eta 0:00:01\r\u001b[K     |█████████▊                      | 20kB 18.6MB/s eta 0:00:01\r\u001b[K     |██████████████▌                 | 30kB 15.2MB/s eta 0:00:01\r\u001b[K     |███████████████████▍            | 40kB 13.6MB/s eta 0:00:01\r\u001b[K     |████████████████████████▏       | 51kB 8.8MB/s eta 0:00:01\r\u001b[K     |█████████████████████████████   | 61kB 8.2MB/s eta 0:00:01\r\u001b[K     |████████████████████████████████| 71kB 5.3MB/s \n",
            "\u001b[?25h  Building wheel for uuid (setup.py) ... \u001b[?25l\u001b[?25hdone\n"
          ],
          "name": "stdout"
        }
      ]
    },
    {
      "cell_type": "code",
      "metadata": {
        "id": "26740TbhA_tm"
      },
      "source": [
        "# Jovian Commit Essentials\n",
        "# Please retain and execute this cell without modifying the contents for `jovian.commit` to work\n",
        "!pip install jovian --upgrade -q\n",
        "import jovian\n",
        "jovian.set_project('student-marks-prediction')\n",
        "jovian.set_colab_id('1J9O7eF8hPGmw5M5773bU7LzMSkmbWHva')"
      ],
      "execution_count": 2,
      "outputs": []
    },
    {
      "cell_type": "code",
      "metadata": {
        "id": "uLHX3bqqA_tu"
      },
      "source": [
        "!pip install jovian --upgrade --quiet"
      ],
      "execution_count": 3,
      "outputs": []
    },
    {
      "cell_type": "markdown",
      "metadata": {
        "id": "IyzFDi4GaHRt"
      },
      "source": [
        "## Hello this is `Anirban Ghoshal` and this is my first task of TSF. In this task I have tried to predict a students exam score by his no. of hours of study."
      ]
    },
    {
      "cell_type": "markdown",
      "metadata": {
        "id": "iugxyNnNR6q5"
      },
      "source": [
        "## Importing all the packages"
      ]
    },
    {
      "cell_type": "code",
      "metadata": {
        "id": "1xS-5niWA_tv"
      },
      "source": [
        "import numpy as np\r\n",
        "import matplotlib.pyplot as plt\r\n",
        "import torch\r\n",
        "import torch.nn as nn\r\n",
        "from torch.utils.data import TensorDataset\r\n",
        "from torch.utils.data import DataLoader\r\n",
        "import torch.nn.functional as F"
      ],
      "execution_count": 4,
      "outputs": []
    },
    {
      "cell_type": "markdown",
      "metadata": {
        "id": "PkQ_hacTSpwA"
      },
      "source": [
        "## Now we will import the data and convert it to PyTorch tensors"
      ]
    },
    {
      "cell_type": "code",
      "metadata": {
        "colab": {
          "base_uri": "https://localhost:8080/"
        },
        "id": "6LgEwSI6BXvw",
        "outputId": "66ffb8a0-fbe8-4be5-b27f-f1eddedf7598"
      },
      "source": [
        "hours = np.array([[2.5000], [5.1000], [3.2000], [8.5000], [3.5000], [1.5000], [9.2000], [5.5000], [8.3000],\r\n",
        "        [2.7000], [7.7000], [5.9000], [4.5000], [3.3000], [1.1000], [8.9000], [2.5000], [1.9000],\r\n",
        "        [6.1000], [7.4000], [2.7000], [4.8000], [3.8000], [6.9000], [7.8000]], dtype='float32')\r\n",
        "\r\n",
        "marks = np.array([[21], [47], [27], [75], [30], [20], [88], [60], [81], [25], [85], [62], [41], [42], [17], [95], [30], [24], [67], [69], [30], [54], [35], [76], [86]], dtype='float32')\r\n",
        "\r\n",
        "hours = torch.from_numpy(hours)\r\n",
        "marks = torch.from_numpy(marks)\r\n",
        "\r\n",
        "print(hours)\r\n",
        "print(marks)"
      ],
      "execution_count": 5,
      "outputs": [
        {
          "output_type": "stream",
          "text": [
            "tensor([[2.5000],\n",
            "        [5.1000],\n",
            "        [3.2000],\n",
            "        [8.5000],\n",
            "        [3.5000],\n",
            "        [1.5000],\n",
            "        [9.2000],\n",
            "        [5.5000],\n",
            "        [8.3000],\n",
            "        [2.7000],\n",
            "        [7.7000],\n",
            "        [5.9000],\n",
            "        [4.5000],\n",
            "        [3.3000],\n",
            "        [1.1000],\n",
            "        [8.9000],\n",
            "        [2.5000],\n",
            "        [1.9000],\n",
            "        [6.1000],\n",
            "        [7.4000],\n",
            "        [2.7000],\n",
            "        [4.8000],\n",
            "        [3.8000],\n",
            "        [6.9000],\n",
            "        [7.8000]])\n",
            "tensor([[21.],\n",
            "        [47.],\n",
            "        [27.],\n",
            "        [75.],\n",
            "        [30.],\n",
            "        [20.],\n",
            "        [88.],\n",
            "        [60.],\n",
            "        [81.],\n",
            "        [25.],\n",
            "        [85.],\n",
            "        [62.],\n",
            "        [41.],\n",
            "        [42.],\n",
            "        [17.],\n",
            "        [95.],\n",
            "        [30.],\n",
            "        [24.],\n",
            "        [67.],\n",
            "        [69.],\n",
            "        [30.],\n",
            "        [54.],\n",
            "        [35.],\n",
            "        [76.],\n",
            "        [86.]])\n"
          ],
          "name": "stdout"
        }
      ]
    },
    {
      "cell_type": "markdown",
      "metadata": {
        "id": "-5UlvRJiTKGg"
      },
      "source": [
        "## Now We'll create a `TensorDataset`, which allows access to rows from `hours` and `marks` as tuples"
      ]
    },
    {
      "cell_type": "code",
      "metadata": {
        "colab": {
          "base_uri": "https://localhost:8080/"
        },
        "id": "VZTEiwGESoXA",
        "outputId": "afa5c239-bf94-4c65-b5ea-117ad7bcb648"
      },
      "source": [
        "train_ds = TensorDataset(hours, marks)\r\n",
        "train_ds[0:10]"
      ],
      "execution_count": 6,
      "outputs": [
        {
          "output_type": "execute_result",
          "data": {
            "text/plain": [
              "(tensor([[2.5000],\n",
              "         [5.1000],\n",
              "         [3.2000],\n",
              "         [8.5000],\n",
              "         [3.5000],\n",
              "         [1.5000],\n",
              "         [9.2000],\n",
              "         [5.5000],\n",
              "         [8.3000],\n",
              "         [2.7000]]), tensor([[21.],\n",
              "         [47.],\n",
              "         [27.],\n",
              "         [75.],\n",
              "         [30.],\n",
              "         [20.],\n",
              "         [88.],\n",
              "         [60.],\n",
              "         [81.],\n",
              "         [25.]]))"
            ]
          },
          "metadata": {
            "tags": []
          },
          "execution_count": 6
        }
      ]
    },
    {
      "cell_type": "markdown",
      "metadata": {
        "id": "vmbSnt7iTgJn"
      },
      "source": [
        "## Now we will visualize the data to see if there is any linear relation between `hours` and `marks`."
      ]
    },
    {
      "cell_type": "code",
      "metadata": {
        "colab": {
          "base_uri": "https://localhost:8080/",
          "height": 295
        },
        "id": "Ko4WwoyeTSsm",
        "outputId": "b86d30de-eafa-4d74-f760-62eafe70322b"
      },
      "source": [
        "plt.scatter(hours, marks)\r\n",
        "plt.title(\"Hours vs Marks\")\r\n",
        "plt.xlabel(\"Hours Studied\")\r\n",
        "plt.ylabel(\"Marks Score\")\r\n",
        "plt.show()"
      ],
      "execution_count": 7,
      "outputs": [
        {
          "output_type": "display_data",
          "data": {
            "image/png": "[encoded data removed]",
            "text/plain": [
              "<Figure size 432x288 with 1 Axes>"
            ]
          },
          "metadata": {
            "tags": [],
            "needs_background": "light"
          }
        }
      ]
    },
    {
      "cell_type": "markdown",
      "metadata": {
        "id": "2zflEfH6WdHf"
      },
      "source": [
        "So we can see there is a linear relation between the study hours and the marks scored. Now we can perform `Linear regression` using `Gradient descent` algorithm for predicting."
      ]
    },
    {
      "cell_type": "markdown",
      "metadata": {
        "id": "Ddx_nLC6W5-f"
      },
      "source": [
        "## We'll also create a `DataLoader`, which can split the data into batches of a predefined size while training. It also provides other utilities like shuffling and random sampling of the data."
      ]
    },
    {
      "cell_type": "code",
      "metadata": {
        "id": "D9MrhTLJUKrM"
      },
      "source": [
        "batch_size = 5\r\n",
        "train_dl = DataLoader(train_ds, batch_size, shuffle=True)"
      ],
      "execution_count": 8,
      "outputs": []
    },
    {
      "cell_type": "code",
      "metadata": {
        "colab": {
          "base_uri": "https://localhost:8080/"
        },
        "id": "v9SlLqtqW_QH",
        "outputId": "5cac6682-9e54-467d-ada6-df586a06a2cb"
      },
      "source": [
        "for xb, yb in train_dl:\r\n",
        "    print(xb)\r\n",
        "    print(yb)\r\n",
        "    break"
      ],
      "execution_count": 9,
      "outputs": [
        {
          "output_type": "stream",
          "text": [
            "tensor([[3.8000],\n",
            "        [4.5000],\n",
            "        [7.4000],\n",
            "        [1.5000],\n",
            "        [4.8000]])\n",
            "tensor([[35.],\n",
            "        [41.],\n",
            "        [69.],\n",
            "        [20.],\n",
            "        [54.]])\n"
          ],
          "name": "stdout"
        }
      ]
    },
    {
      "cell_type": "markdown",
      "metadata": {
        "id": "8mC850KzXGI_"
      },
      "source": [
        "In each iteration, the data loader returns one batch of data with the given batch size. If `shuffle` is set to `True`, it shuffles the training data before creating batches. Shuffling helps randomize the input to the optimization algorithm, leading to a faster reduction in the loss."
      ]
    },
    {
      "cell_type": "markdown",
      "metadata": {
        "id": "G7K5mbIhXfGf"
      },
      "source": [
        "## Now we will define our model using `nn.Linear` class from PyTorch which will give us weights and biases"
      ]
    },
    {
      "cell_type": "code",
      "metadata": {
        "colab": {
          "base_uri": "https://localhost:8080/"
        },
        "id": "4wZtsaGDXDrH",
        "outputId": "36445313-ec31-4b36-f13d-5ccc49c391f1"
      },
      "source": [
        "model = nn.Linear(1, 1)\r\n",
        "print(model.weight)\r\n",
        "print(model.bias)"
      ],
      "execution_count": 10,
      "outputs": [
        {
          "output_type": "stream",
          "text": [
            "Parameter containing:\n",
            "tensor([[-0.0742]], requires_grad=True)\n",
            "Parameter containing:\n",
            "tensor([-0.2433], requires_grad=True)\n"
          ],
          "name": "stdout"
        }
      ]
    },
    {
      "cell_type": "markdown",
      "metadata": {
        "id": "PJPhRL0yX6bP"
      },
      "source": [
        "We can use the model to generate predictions in the same way as before."
      ]
    },
    {
      "cell_type": "code",
      "metadata": {
        "colab": {
          "base_uri": "https://localhost:8080/"
        },
        "id": "m_zvCmj4Xubp",
        "outputId": "ff33c586-6967-40da-eec5-2ab78f1824bd"
      },
      "source": [
        "preds = model(hours)\r\n",
        "preds"
      ],
      "execution_count": 11,
      "outputs": [
        {
          "output_type": "execute_result",
          "data": {
            "text/plain": [
              "tensor([[-0.4289],\n",
              "        [-0.6218],\n",
              "        [-0.4808],\n",
              "        [-0.8741],\n",
              "        [-0.5031],\n",
              "        [-0.3547],\n",
              "        [-0.9260],\n",
              "        [-0.6515],\n",
              "        [-0.8592],\n",
              "        [-0.4437],\n",
              "        [-0.8147],\n",
              "        [-0.6811],\n",
              "        [-0.5773],\n",
              "        [-0.4882],\n",
              "        [-0.3250],\n",
              "        [-0.9038],\n",
              "        [-0.4289],\n",
              "        [-0.3843],\n",
              "        [-0.6960],\n",
              "        [-0.7925],\n",
              "        [-0.4437],\n",
              "        [-0.5995],\n",
              "        [-0.5253],\n",
              "        [-0.7554],\n",
              "        [-0.8221]], grad_fn=<AddmmBackward>)"
            ]
          },
          "metadata": {
            "tags": []
          },
          "execution_count": 11
        }
      ]
    },
    {
      "cell_type": "markdown",
      "metadata": {
        "id": "JobXQzwnY3dw"
      },
      "source": [
        "## Loss Function\r\n",
        "Now we will define a loss function for calculating the loss and will try further to twicking the weights and biases for seeing a decrease in the loss"
      ]
    },
    {
      "cell_type": "code",
      "metadata": {
        "id": "MaDD0bpwX8zZ"
      },
      "source": [
        "loss_fn = F.mse_loss"
      ],
      "execution_count": 12,
      "outputs": []
    },
    {
      "cell_type": "code",
      "metadata": {
        "colab": {
          "base_uri": "https://localhost:8080/"
        },
        "id": "1CJLYbXUZTXX",
        "outputId": "dc455197-dfd0-4444-e534-db4eeb08d6d2"
      },
      "source": [
        "loss = loss_fn(model(hours), marks)\r\n",
        "print(loss)"
      ],
      "execution_count": 13,
      "outputs": [
        {
          "output_type": "stream",
          "text": [
            "tensor(3336.6794, grad_fn=<MseLossBackward>)\n"
          ],
          "name": "stdout"
        }
      ]
    },
    {
      "cell_type": "markdown",
      "metadata": {
        "id": "oeKHTyszZgAI"
      },
      "source": [
        "We will now use a optimizer called `optim.SGD` for manipulating the weights and biases. SGD is short for \"stochastic gradient descent\". The term _stochastic_ indicates that samples are selected in random batches instead of as a single group."
      ]
    },
    {
      "cell_type": "code",
      "metadata": {
        "id": "ZK1Ed5VmZYrM"
      },
      "source": [
        "opt = torch.optim.SGD(model.parameters(), lr=1e-5)"
      ],
      "execution_count": 14,
      "outputs": []
    },
    {
      "cell_type": "markdown",
      "metadata": {
        "id": "LsHY3ewnZ_VX"
      },
      "source": [
        "## Train the model\r\n",
        "\r\n",
        "We are now ready to train the model. We'll follow the below steps to implement gradient descent:\r\n",
        "\r\n",
        "1. Generate predictions\r\n",
        "\r\n",
        "2. Calculate the loss\r\n",
        "\r\n",
        "3. Compute gradients w.r.t the weights and biases\r\n",
        "\r\n",
        "4. Adjust the weights by subtracting a small quantity proportional to the gradient\r\n",
        "\r\n",
        "5. Reset the gradients to zero\r\n",
        "\r\n",
        "Let's define a utility function `fit` that trains the model for a given number of epochs."
      ]
    },
    {
      "cell_type": "code",
      "metadata": {
        "id": "owOtakmyZ16q"
      },
      "source": [
        "def fit(num_epochs, model, loss_fn, opt, train_dl):\r\n",
        "    \r\n",
        "    # Repeat for given number of epochs\r\n",
        "    for epoch in range(num_epochs):\r\n",
        "        \r\n",
        "        # Train with batches of data\r\n",
        "        for xb,yb in train_dl:\r\n",
        "            \r\n",
        "            # 1. Generate predictions\r\n",
        "            pred = model(xb)\r\n",
        "            \r\n",
        "            # 2. Calculate loss\r\n",
        "            loss = loss_fn(pred, yb)\r\n",
        "            \r\n",
        "            # 3. Compute gradients\r\n",
        "            loss.backward()\r\n",
        "            \r\n",
        "            # 4. Update parameters using gradients\r\n",
        "            opt.step()\r\n",
        "            \r\n",
        "            # 5. Reset the gradients to zero\r\n",
        "            opt.zero_grad()\r\n",
        "        \r\n",
        "        # Print the progress\r\n",
        "        if (epoch+1) % 100 == 0:\r\n",
        "            print('Epoch [{}/{}], Loss: {:.4f}'.format(epoch+1, num_epochs, loss.item()))"
      ],
      "execution_count": 15,
      "outputs": []
    },
    {
      "cell_type": "code",
      "metadata": {
        "colab": {
          "base_uri": "https://localhost:8080/"
        },
        "id": "z7iH1lvcaUV9",
        "outputId": "47a8f7fb-26e3-4b46-96e5-ab621c3e6cfe"
      },
      "source": [
        "fit(2000, model, loss_fn, opt, train_dl)"
      ],
      "execution_count": 16,
      "outputs": [
        {
          "output_type": "stream",
          "text": [
            "Epoch [100/2000], Loss: 1128.4720\n",
            "Epoch [200/2000], Loss: 1066.3456\n",
            "Epoch [300/2000], Loss: 775.7544\n",
            "Epoch [400/2000], Loss: 390.4615\n",
            "Epoch [500/2000], Loss: 114.0930\n",
            "Epoch [600/2000], Loss: 89.3117\n",
            "Epoch [700/2000], Loss: 44.0432\n",
            "Epoch [800/2000], Loss: 44.4283\n",
            "Epoch [900/2000], Loss: 19.5621\n",
            "Epoch [1000/2000], Loss: 41.9519\n",
            "Epoch [1100/2000], Loss: 31.2088\n",
            "Epoch [1200/2000], Loss: 38.9420\n",
            "Epoch [1300/2000], Loss: 32.9424\n",
            "Epoch [1400/2000], Loss: 17.0594\n",
            "Epoch [1500/2000], Loss: 28.7098\n",
            "Epoch [1600/2000], Loss: 38.4533\n",
            "Epoch [1700/2000], Loss: 29.1903\n",
            "Epoch [1800/2000], Loss: 31.4935\n",
            "Epoch [1900/2000], Loss: 46.8322\n",
            "Epoch [2000/2000], Loss: 36.5214\n"
          ],
          "name": "stdout"
        }
      ]
    },
    {
      "cell_type": "markdown",
      "metadata": {
        "id": "BL5M-VBiabF4"
      },
      "source": [
        "We have trained our model for 2000 epochs and we got the Loss value 19.32 which is pretty good compared to the first loss value"
      ]
    },
    {
      "cell_type": "markdown",
      "metadata": {
        "id": "3gU_vFbNauPf"
      },
      "source": [
        "### Now we will see how good our model has performed and we will try to predict if a student studies for `9.25 hours` then what will be the score."
      ]
    },
    {
      "cell_type": "code",
      "metadata": {
        "colab": {
          "base_uri": "https://localhost:8080/"
        },
        "id": "h4xbPd6HaXw-",
        "outputId": "afddb9ef-0b42-4918-f49f-f82b4770e0f3"
      },
      "source": [
        "preds = model(hours)\r\n",
        "preds"
      ],
      "execution_count": 17,
      "outputs": [
        {
          "output_type": "execute_result",
          "data": {
            "text/plain": [
              "tensor([[26.2432],\n",
              "        [52.0652],\n",
              "        [33.1952],\n",
              "        [85.8324],\n",
              "        [36.1747],\n",
              "        [16.3116],\n",
              "        [92.7844],\n",
              "        [56.0378],\n",
              "        [83.8461],\n",
              "        [28.2295],\n",
              "        [77.8871],\n",
              "        [60.0104],\n",
              "        [46.1062],\n",
              "        [34.1884],\n",
              "        [12.3390],\n",
              "        [89.8050],\n",
              "        [26.2432],\n",
              "        [20.2842],\n",
              "        [61.9967],\n",
              "        [74.9077],\n",
              "        [28.2295],\n",
              "        [49.0857],\n",
              "        [39.1542],\n",
              "        [69.9419],\n",
              "        [78.8803]], grad_fn=<AddmmBackward>)"
            ]
          },
          "metadata": {
            "tags": []
          },
          "execution_count": 17
        }
      ]
    },
    {
      "cell_type": "code",
      "metadata": {
        "colab": {
          "base_uri": "https://localhost:8080/"
        },
        "id": "8ctwrNf2bE5b",
        "outputId": "1350702b-6421-4013-daa9-f6d07f97b447"
      },
      "source": [
        "marks"
      ],
      "execution_count": 18,
      "outputs": [
        {
          "output_type": "execute_result",
          "data": {
            "text/plain": [
              "tensor([[21.],\n",
              "        [47.],\n",
              "        [27.],\n",
              "        [75.],\n",
              "        [30.],\n",
              "        [20.],\n",
              "        [88.],\n",
              "        [60.],\n",
              "        [81.],\n",
              "        [25.],\n",
              "        [85.],\n",
              "        [62.],\n",
              "        [41.],\n",
              "        [42.],\n",
              "        [17.],\n",
              "        [95.],\n",
              "        [30.],\n",
              "        [24.],\n",
              "        [67.],\n",
              "        [69.],\n",
              "        [30.],\n",
              "        [54.],\n",
              "        [35.],\n",
              "        [76.],\n",
              "        [86.]])"
            ]
          },
          "metadata": {
            "tags": []
          },
          "execution_count": 18
        }
      ]
    },
    {
      "cell_type": "markdown",
      "metadata": {
        "id": "xixqsSRObNM_"
      },
      "source": [
        "Let's see for 9.25 hours how much a student scores"
      ]
    },
    {
      "cell_type": "code",
      "metadata": {
        "colab": {
          "base_uri": "https://localhost:8080/"
        },
        "id": "qk17TzvObI9O",
        "outputId": "0015fef4-15aa-4138-f402-36f690c6452e"
      },
      "source": [
        "model(torch.tensor([[9.2500]]))"
      ],
      "execution_count": 19,
      "outputs": [
        {
          "output_type": "execute_result",
          "data": {
            "text/plain": [
              "tensor([[93.2810]], grad_fn=<AddmmBackward>)"
            ]
          },
          "metadata": {
            "tags": []
          },
          "execution_count": 19
        }
      ]
    },
    {
      "cell_type": "code",
      "metadata": {
        "colab": {
          "base_uri": "https://localhost:8080/"
        },
        "id": "kgAyMPzLZUMr",
        "outputId": "b88db4d4-131b-47d4-bb43-4bf29f622c5b"
      },
      "source": [
        "model(torch.tensor([[1.0000]]))"
      ],
      "execution_count": 20,
      "outputs": [
        {
          "output_type": "execute_result",
          "data": {
            "text/plain": [
              "tensor([[11.3459]], grad_fn=<AddmmBackward>)"
            ]
          },
          "metadata": {
            "tags": []
          },
          "execution_count": 20
        }
      ]
    },
    {
      "cell_type": "markdown",
      "metadata": {
        "id": "t355l-xPbZOX"
      },
      "source": [
        "The predicted score is 92.67"
      ]
    },
    {
      "cell_type": "code",
      "metadata": {
        "colab": {
          "base_uri": "https://localhost:8080/",
          "height": 136
        },
        "id": "oWpVysvfcEPA",
        "outputId": "68ac3da2-6ba9-48ef-97a4-518cd36802ca"
      },
      "source": [
        "import jovian\r\n",
        "jovian.commit()"
      ],
      "execution_count": 21,
      "outputs": [
        {
          "output_type": "stream",
          "text": [
            "[jovian] Detected Colab notebook...\u001b[0m\n",
            "[jovian] Please enter your API key ( from https://jovian.ai/ ):\u001b[0m\n",
            "API KEY: ··········\n",
            "[jovian] Uploading colab notebook to Jovian...\u001b[0m\n",
            "[jovian] Capturing environment..\u001b[0m\n",
            "[jovian] Committed successfully! https://jovian.ai/anirbanghoshal990/student-marks-prediction\u001b[0m\n"
          ],
          "name": "stdout"
        },
        {
          "output_type": "execute_result",
          "data": {
            "application/vnd.google.colaboratory.intrinsic+json": {
              "type": "string"
            },
            "text/plain": [
              "'https://jovian.ai/anirbanghoshal990/student-marks-prediction'"
            ]
          },
          "metadata": {
            "tags": []
          },
          "execution_count": 21
        }
      ]
    },
    {
      "cell_type": "code",
      "metadata": {
        "id": "Cr7R0fWymlU8"
      },
      "source": [
        ""
      ],
      "execution_count": 21,
      "outputs": []
    }
  ]
}